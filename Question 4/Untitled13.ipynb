{
  "nbformat": 4,
  "nbformat_minor": 0,
  "metadata": {
    "colab": {
      "name": "Untitled13.ipynb",
      "provenance": []
    },
    "kernelspec": {
      "name": "python3",
      "display_name": "Python 3"
    },
    "language_info": {
      "name": "python"
    }
  },
  "cells": [
    {
      "cell_type": "markdown",
      "source": [
        "###Due to unavailability of Regional Language License Dataset this Image Augmentation was done for four different States License Plates."
      ],
      "metadata": {
        "id": "6Oo7nqr93aY3"
      }
    },
    {
      "cell_type": "code",
      "execution_count": 3,
      "metadata": {
        "id": "JNcsjRt08Jh1"
      },
      "outputs": [],
      "source": [
        "import keras\n",
        "import cv2\n",
        "import os\n",
        "import glob\n",
        "from keras.preprocessing.image import ImageDataGenerator, array_to_img, img_to_array, load_img\n",
        "datagen = ImageDataGenerator(rotation_range =15, \n",
        "                         width_shift_range = 0.2, \n",
        "                         height_shift_range = 0.2,  \n",
        "                         rescale=1./255, \n",
        "                         shear_range=0.2, \n",
        "                         zoom_range=0.2, \n",
        "                         horizontal_flip = True, \n",
        "                         fill_mode = 'nearest', \n",
        "                         data_format='channels_last', \n",
        "                         brightness_range=[0.5, 1.5]) \n",
        "\n",
        "\n",
        "img_dir = \"/content/drive/MyDrive/Maharastra\" \n",
        "data_path = os.path.join(img_dir,'*g')\n",
        "files = glob.glob(data_path)\n",
        "data = []\n",
        "for f1 in files:\n",
        "    img = cv2.imread(f1)\n",
        "    data.append(img)\n",
        "\n",
        "x = img_to_array(img)\n",
        "x = x.reshape((1,) + x.shape)\n",
        "\n",
        "i = 0\n",
        "path, dirs, files = next(os.walk(\"/content/drive/MyDrive/Maharastra\"))\n",
        "file_count = 30\n",
        "\n",
        "for batch in datagen.flow (x, batch_size=1, save_to_dir =r'/content/drive/MyDrive/maha_aug',save_prefix=\"a\",save_format='jpg'):\n",
        "    i+=1\n",
        "    if i==file_count:\n",
        "      break"
      ]
    },
    {
      "cell_type": "code",
      "source": [
        "import keras\n",
        "import cv2\n",
        "import os\n",
        "import glob\n",
        "from keras.preprocessing.image import ImageDataGenerator, array_to_img, img_to_array, load_img\n",
        "datagen = ImageDataGenerator(rotation_range =15, \n",
        "                         width_shift_range = 0.2, \n",
        "                         height_shift_range = 0.2,  \n",
        "                         rescale=1./255, \n",
        "                         shear_range=0.2, \n",
        "                         zoom_range=0.2, \n",
        "                         horizontal_flip = True, \n",
        "                         fill_mode = 'nearest', \n",
        "                         data_format='channels_last', \n",
        "                         brightness_range=[0.5, 1.5]) \n",
        "\n",
        "\n",
        "img_dir = \"/content/drive/MyDrive/West Bengal\" \n",
        "data_path = os.path.join(img_dir,'*g')\n",
        "files = glob.glob(data_path)\n",
        "data = []\n",
        "for f1 in files:\n",
        "    img = cv2.imread(f1)\n",
        "    data.append(img)\n",
        "\n",
        "x = img_to_array(img)\n",
        "x = x.reshape((1,) + x.shape)\n",
        "\n",
        "i = 0\n",
        "path, dirs, files = next(os.walk(\"/content/drive/MyDrive/West Bengal\"))\n",
        "file_count = 30\n",
        "\n",
        "for batch in datagen.flow (x, batch_size=1, save_to_dir =r'/content/drive/MyDrive/wb_aug',save_prefix=\"a\",save_format='jpg'):\n",
        "    i+=1\n",
        "    if i==file_count:\n",
        "      break"
      ],
      "metadata": {
        "id": "kxiZJt2ibzT7"
      },
      "execution_count": 4,
      "outputs": []
    },
    {
      "cell_type": "code",
      "source": [
        "import keras\n",
        "import cv2\n",
        "import os\n",
        "import glob\n",
        "from keras.preprocessing.image import ImageDataGenerator, array_to_img, img_to_array, load_img\n",
        "datagen = ImageDataGenerator(rotation_range =15, \n",
        "                         width_shift_range = 0.2, \n",
        "                         height_shift_range = 0.2,  \n",
        "                         rescale=1./255, \n",
        "                         shear_range=0.2, \n",
        "                         zoom_range=0.2, \n",
        "                         horizontal_flip = True, \n",
        "                         fill_mode = 'nearest', \n",
        "                         data_format='channels_last', \n",
        "                         brightness_range=[0.5, 1.5]) \n",
        "\n",
        "\n",
        "img_dir = \"/content/drive/MyDrive/Andra Pradesh\" \n",
        "data_path = os.path.join(img_dir,'*g')\n",
        "files = glob.glob(data_path)\n",
        "data = []\n",
        "for f1 in files:\n",
        "    img = cv2.imread(f1)\n",
        "    data.append(img)\n",
        "\n",
        "x = img_to_array(img)\n",
        "x = x.reshape((1,) + x.shape)\n",
        "\n",
        "i = 0\n",
        "path, dirs, files = next(os.walk(\"/content/drive/MyDrive/Andra Pradesh\"))\n",
        "file_count = len(files)\n",
        "\n",
        "for batch in datagen.flow (x, batch_size=1, save_to_dir =r'/content/drive/MyDrive/ap_aug',save_prefix=\"a\",save_format='jpg'):\n",
        "    i+=1\n",
        "    if i==file_count:\n",
        "      break"
      ],
      "metadata": {
        "id": "oop3DBivb0JQ"
      },
      "execution_count": 5,
      "outputs": []
    },
    {
      "cell_type": "code",
      "source": [
        "import keras\n",
        "import cv2\n",
        "import os\n",
        "import glob\n",
        "from keras.preprocessing.image import ImageDataGenerator, array_to_img, img_to_array, load_img\n",
        "datagen = ImageDataGenerator(rotation_range =15, \n",
        "                         width_shift_range = 0.2, \n",
        "                         height_shift_range = 0.2,  \n",
        "                         rescale=1./255, \n",
        "                         shear_range=0.2, \n",
        "                         zoom_range=0.2, \n",
        "                         horizontal_flip = True, \n",
        "                         fill_mode = 'nearest', \n",
        "                         data_format='channels_last', \n",
        "                         brightness_range=[0.5, 1.5]) \n",
        "\n",
        "\n",
        "img_dir = \"/content/drive/MyDrive/Delhi\" \n",
        "data_path = os.path.join(img_dir,'*g')\n",
        "files = glob.glob(data_path)\n",
        "data = []\n",
        "for f1 in files:\n",
        "    img = cv2.imread(f1)\n",
        "    data.append(img)\n",
        "\n",
        "x = img_to_array(img)\n",
        "x = x.reshape((1,) + x.shape)\n",
        "\n",
        "i = 0\n",
        "path, dirs, files = next(os.walk(\"/content/drive/MyDrive/Delhi\"))\n",
        "file_count = len(files)\n",
        "\n",
        "for batch in datagen.flow (x, batch_size=1, save_to_dir =r'/content/drive/MyDrive/delhi_aug',save_prefix=\"a\",save_format='jpg'):\n",
        "    i+=1\n",
        "    if i==file_count:\n",
        "      break"
      ],
      "metadata": {
        "id": "QKhjVWWSb0pS"
      },
      "execution_count": 6,
      "outputs": []
    },
    {
      "cell_type": "code",
      "source": [
        ""
      ],
      "metadata": {
        "id": "Ew2HUSuy23s8"
      },
      "execution_count": null,
      "outputs": []
    }
  ]
}