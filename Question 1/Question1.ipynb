{
  "cells": [
    {
      "cell_type": "code",
      "execution_count": 1,
      "id": "e3935f55",
      "metadata": {
        "id": "e3935f55"
      },
      "outputs": [],
      "source": [
        "import pandas as pd\n",
        "import numpy as np\n",
        "import matplotlib.pyplot as plt\n",
        "import seaborn as sns"
      ]
    },
    {
      "cell_type": "code",
      "execution_count": 2,
      "id": "bbac1c55",
      "metadata": {
        "id": "bbac1c55"
      },
      "outputs": [],
      "source": [
        "#country-names-and-codes.csv\n",
        "gdp=pd.read_csv('gdp_1960_2020.csv')"
      ]
    },
    {
      "cell_type": "code",
      "execution_count": 3,
      "id": "7bc2630f",
      "metadata": {
        "colab": {
          "base_uri": "https://localhost:8080/",
          "height": 206
        },
        "id": "7bc2630f",
        "outputId": "e044e9ea-10a4-47e1-b118-5b00f2095385"
      },
      "outputs": [
        {
          "output_type": "execute_result",
          "data": {
            "text/plain": [
              "   year  rank            country    state           gdp  gdp_percent\n",
              "0  1960     1  the United States  America  543300000000     0.468483\n",
              "1  1960     2     United Kingdom   Europe   73233967692     0.063149\n",
              "2  1960     3             France   Europe   62225478000     0.053656\n",
              "3  1960     4              China     Asia   59716467625     0.051493\n",
              "4  1960     5              Japan     Asia   44307342950     0.038206"
            ],
            "text/html": [
              "\n",
              "  <div id=\"df-8b24cea0-2a93-4001-a3a7-260c6793f7ae\">\n",
              "    <div class=\"colab-df-container\">\n",
              "      <div>\n",
              "<style scoped>\n",
              "    .dataframe tbody tr th:only-of-type {\n",
              "        vertical-align: middle;\n",
              "    }\n",
              "\n",
              "    .dataframe tbody tr th {\n",
              "        vertical-align: top;\n",
              "    }\n",
              "\n",
              "    .dataframe thead th {\n",
              "        text-align: right;\n",
              "    }\n",
              "</style>\n",
              "<table border=\"1\" class=\"dataframe\">\n",
              "  <thead>\n",
              "    <tr style=\"text-align: right;\">\n",
              "      <th></th>\n",
              "      <th>year</th>\n",
              "      <th>rank</th>\n",
              "      <th>country</th>\n",
              "      <th>state</th>\n",
              "      <th>gdp</th>\n",
              "      <th>gdp_percent</th>\n",
              "    </tr>\n",
              "  </thead>\n",
              "  <tbody>\n",
              "    <tr>\n",
              "      <th>0</th>\n",
              "      <td>1960</td>\n",
              "      <td>1</td>\n",
              "      <td>the United States</td>\n",
              "      <td>America</td>\n",
              "      <td>543300000000</td>\n",
              "      <td>0.468483</td>\n",
              "    </tr>\n",
              "    <tr>\n",
              "      <th>1</th>\n",
              "      <td>1960</td>\n",
              "      <td>2</td>\n",
              "      <td>United Kingdom</td>\n",
              "      <td>Europe</td>\n",
              "      <td>73233967692</td>\n",
              "      <td>0.063149</td>\n",
              "    </tr>\n",
              "    <tr>\n",
              "      <th>2</th>\n",
              "      <td>1960</td>\n",
              "      <td>3</td>\n",
              "      <td>France</td>\n",
              "      <td>Europe</td>\n",
              "      <td>62225478000</td>\n",
              "      <td>0.053656</td>\n",
              "    </tr>\n",
              "    <tr>\n",
              "      <th>3</th>\n",
              "      <td>1960</td>\n",
              "      <td>4</td>\n",
              "      <td>China</td>\n",
              "      <td>Asia</td>\n",
              "      <td>59716467625</td>\n",
              "      <td>0.051493</td>\n",
              "    </tr>\n",
              "    <tr>\n",
              "      <th>4</th>\n",
              "      <td>1960</td>\n",
              "      <td>5</td>\n",
              "      <td>Japan</td>\n",
              "      <td>Asia</td>\n",
              "      <td>44307342950</td>\n",
              "      <td>0.038206</td>\n",
              "    </tr>\n",
              "  </tbody>\n",
              "</table>\n",
              "</div>\n",
              "      <button class=\"colab-df-convert\" onclick=\"convertToInteractive('df-8b24cea0-2a93-4001-a3a7-260c6793f7ae')\"\n",
              "              title=\"Convert this dataframe to an interactive table.\"\n",
              "              style=\"display:none;\">\n",
              "        \n",
              "  <svg xmlns=\"http://www.w3.org/2000/svg\" height=\"24px\"viewBox=\"0 0 24 24\"\n",
              "       width=\"24px\">\n",
              "    <path d=\"M0 0h24v24H0V0z\" fill=\"none\"/>\n",
              "    <path d=\"M18.56 5.44l.94 2.06.94-2.06 2.06-.94-2.06-.94-.94-2.06-.94 2.06-2.06.94zm-11 1L8.5 8.5l.94-2.06 2.06-.94-2.06-.94L8.5 2.5l-.94 2.06-2.06.94zm10 10l.94 2.06.94-2.06 2.06-.94-2.06-.94-.94-2.06-.94 2.06-2.06.94z\"/><path d=\"M17.41 7.96l-1.37-1.37c-.4-.4-.92-.59-1.43-.59-.52 0-1.04.2-1.43.59L10.3 9.45l-7.72 7.72c-.78.78-.78 2.05 0 2.83L4 21.41c.39.39.9.59 1.41.59.51 0 1.02-.2 1.41-.59l7.78-7.78 2.81-2.81c.8-.78.8-2.07 0-2.86zM5.41 20L4 18.59l7.72-7.72 1.47 1.35L5.41 20z\"/>\n",
              "  </svg>\n",
              "      </button>\n",
              "      \n",
              "  <style>\n",
              "    .colab-df-container {\n",
              "      display:flex;\n",
              "      flex-wrap:wrap;\n",
              "      gap: 12px;\n",
              "    }\n",
              "\n",
              "    .colab-df-convert {\n",
              "      background-color: #E8F0FE;\n",
              "      border: none;\n",
              "      border-radius: 50%;\n",
              "      cursor: pointer;\n",
              "      display: none;\n",
              "      fill: #1967D2;\n",
              "      height: 32px;\n",
              "      padding: 0 0 0 0;\n",
              "      width: 32px;\n",
              "    }\n",
              "\n",
              "    .colab-df-convert:hover {\n",
              "      background-color: #E2EBFA;\n",
              "      box-shadow: 0px 1px 2px rgba(60, 64, 67, 0.3), 0px 1px 3px 1px rgba(60, 64, 67, 0.15);\n",
              "      fill: #174EA6;\n",
              "    }\n",
              "\n",
              "    [theme=dark] .colab-df-convert {\n",
              "      background-color: #3B4455;\n",
              "      fill: #D2E3FC;\n",
              "    }\n",
              "\n",
              "    [theme=dark] .colab-df-convert:hover {\n",
              "      background-color: #434B5C;\n",
              "      box-shadow: 0px 1px 3px 1px rgba(0, 0, 0, 0.15);\n",
              "      filter: drop-shadow(0px 1px 2px rgba(0, 0, 0, 0.3));\n",
              "      fill: #FFFFFF;\n",
              "    }\n",
              "  </style>\n",
              "\n",
              "      <script>\n",
              "        const buttonEl =\n",
              "          document.querySelector('#df-8b24cea0-2a93-4001-a3a7-260c6793f7ae button.colab-df-convert');\n",
              "        buttonEl.style.display =\n",
              "          google.colab.kernel.accessAllowed ? 'block' : 'none';\n",
              "\n",
              "        async function convertToInteractive(key) {\n",
              "          const element = document.querySelector('#df-8b24cea0-2a93-4001-a3a7-260c6793f7ae');\n",
              "          const dataTable =\n",
              "            await google.colab.kernel.invokeFunction('convertToInteractive',\n",
              "                                                     [key], {});\n",
              "          if (!dataTable) return;\n",
              "\n",
              "          const docLinkHtml = 'Like what you see? Visit the ' +\n",
              "            '<a target=\"_blank\" href=https://colab.research.google.com/notebooks/data_table.ipynb>data table notebook</a>'\n",
              "            + ' to learn more about interactive tables.';\n",
              "          element.innerHTML = '';\n",
              "          dataTable['output_type'] = 'display_data';\n",
              "          await google.colab.output.renderOutput(dataTable, element);\n",
              "          const docLink = document.createElement('div');\n",
              "          docLink.innerHTML = docLinkHtml;\n",
              "          element.appendChild(docLink);\n",
              "        }\n",
              "      </script>\n",
              "    </div>\n",
              "  </div>\n",
              "  "
            ]
          },
          "metadata": {},
          "execution_count": 3
        }
      ],
      "source": [
        "gdp.head()"
      ]
    },
    {
      "cell_type": "code",
      "execution_count": 4,
      "id": "7e597416",
      "metadata": {
        "colab": {
          "base_uri": "https://localhost:8080/"
        },
        "id": "7e597416",
        "outputId": "d44a272e-f74e-40d6-c5ad-7b202b2cc65d"
      },
      "outputs": [
        {
          "output_type": "execute_result",
          "data": {
            "text/plain": [
              "Index(['year', 'rank', 'country', 'state', 'gdp', 'gdp_percent'], dtype='object')"
            ]
          },
          "metadata": {},
          "execution_count": 4
        }
      ],
      "source": [
        "gdp.columns"
      ]
    },
    {
      "cell_type": "code",
      "execution_count": 5,
      "id": "1cef7209",
      "metadata": {
        "colab": {
          "base_uri": "https://localhost:8080/"
        },
        "id": "1cef7209",
        "outputId": "d0ef1219-f45a-46a8-fdc5-3906baa9954f"
      },
      "outputs": [
        {
          "output_type": "execute_result",
          "data": {
            "text/plain": [
              "array(['the United States', 'United Kingdom', 'France', 'China', 'Japan',\n",
              "       'Canada', 'Italy', 'India', 'Australia', 'Sweden', 'Brazil',\n",
              "       'Turkey', 'Mexico', 'Netherlands', 'Spain', 'Belgium',\n",
              "       'Switzerland', 'Venezuela', 'South Africa', 'Philippines',\n",
              "       'Austria', 'Denmark', 'New Zealand', 'Finland', 'Norway', 'Greece',\n",
              "       'Bangladesh', 'Iran', 'Nigeria', 'Chile', 'Columbia',\n",
              "       'South Korea', 'Pakistan', 'Congo (gold)', 'Portugal', 'Thailand',\n",
              "       'Algeria', 'Israel', 'Peru', 'Morocco', 'Ireland', 'Malaysia',\n",
              "       'Puerto Rico', 'Iraq', 'Sri Lanka', 'Hong Kong', 'Sudan',\n",
              "       'Uruguay', 'Garner', 'Zimbabwe', 'Guatemala', 'Ecuador', 'Syria',\n",
              "       'Senegal', 'Kenya', 'Zambia', 'Singapore', 'Luxembourg', 'Jamaica',\n",
              "       'Madagascar', 'Dominica', 'Cambodia', 'Cameroon', 'Bolivia',\n",
              "       \"C ô te d'Ivoire\", 'Afghanistan', 'Panama', 'Trinidad and Tobago',\n",
              "       'Nepal', 'Costa Rica', 'Niger', 'Uganda', 'Honduras',\n",
              "       'Burkina Faso', 'Sierra Leone', 'Chad', 'Haiti', 'Iceland',\n",
              "       'Papua New Guinea', 'Benin', 'Nicaragua', 'Burundi', 'Liberia',\n",
              "       'Somalia', 'Guyana', 'Bahamas', 'Malawi', 'Gabon',\n",
              "       'Congo (Brazzaville)', 'Togo', 'Rwanda', 'Fiji Islands',\n",
              "       'Central Africa', 'Suriname', 'Mauritania', 'Bermuda', 'Eswatini',\n",
              "       'Lesotho', 'Botswana', 'Belize',\n",
              "       'Saint Vincent and the Grenadines', 'Saint Kitts and Nevis',\n",
              "       'Seychelles', 'Argentina', 'Equatorial Guinea', 'Egypt', 'Kuwait',\n",
              "       'Tunisia', 'El Salvador', 'Jordan', 'Paraguay', 'French Polynesia',\n",
              "       'New Caledonia', 'Brunei', 'Oman', 'Gambia', 'Indonesia', 'Mali',\n",
              "       'Solomon Islands', 'Saudi Arabia', 'Germany', 'Cuba', 'Qatar',\n",
              "       'Monaco', 'Malta', 'Liechtenstein', 'Guinea Bissau', 'Andorra',\n",
              "       'Greenland', 'Kiribati', 'Barbados', 'United Arab Emirates',\n",
              "       'Cyprus', 'Tonga', 'Mauritius', 'Saint Lucia',\n",
              "       'Antigua and Barbuda', 'Grenada', 'Vanuatu', 'Bulgaria', 'Angola',\n",
              "       'Mozambique', 'Bahrain', 'Namibia', 'Cape Verde', 'Bhutan',\n",
              "       'Comoros', 'Maldives', 'Ethiopia', 'Mongolia', 'Marshall Islands',\n",
              "       'Macao', 'Samoa', 'Micronesia (Federated States of)', 'Albania',\n",
              "       'Laos', 'Vietnam', 'Djibouti', 'Guinea', 'Aruba', 'Ukraine',\n",
              "       'Romania', 'Turkmenistan', 'Russia', 'Tanzania', 'Lebanon',\n",
              "       'Poland', 'Czech', 'Libya', 'Kazakhstan', 'Belarus', 'Slovenia',\n",
              "       'Uzbekistan', 'Slovakia', 'Azerbaijan', 'Georgia', 'Yemen',\n",
              "       'Macedonia', 'Moldova', 'Kyrgyzstan', 'Tajikistan', 'Armenia',\n",
              "       'Palau', 'Tuvalu', 'Hungary', 'Eritrea', 'Estonia', 'Palestine',\n",
              "       'Bosnia and Herzegovina', 'Croatia', 'Serbia', 'Lithuania',\n",
              "       'Latvia', 'Isle of man', 'Cayman Islands', 'Faroe Islands',\n",
              "       'Myanmar', 'San Marino', 'Montenegro', 'Timor Leste',\n",
              "       'Turks and Caicos Islands', 'Sao Tome and Principe.', 'Guam',\n",
              "       'Northern Mariana Islands', 'American Samoa', 'Nauru',\n",
              "       'South Sultan', 'Cura ç Ao', 'Netherlands Saint Martin'],\n",
              "      dtype=object)"
            ]
          },
          "metadata": {},
          "execution_count": 5
        }
      ],
      "source": [
        "gdp['country'].unique()"
      ]
    },
    {
      "cell_type": "code",
      "execution_count": 7,
      "id": "866d9d3e",
      "metadata": {
        "colab": {
          "base_uri": "https://localhost:8080/",
          "height": 424
        },
        "id": "866d9d3e",
        "outputId": "c3e12699-5a97-484b-9f8f-9adb57b3b897"
      },
      "outputs": [
        {
          "output_type": "execute_result",
          "data": {
            "text/plain": [
              "      year  rank country state            gdp  gdp_percent\n",
              "7     1960     8   India  Asia    37029883875     0.031931\n",
              "110   1961     8   India  Asia    39232435784     0.032502\n",
              "213   1962     8   India  Asia    42161481858     0.031930\n",
              "317   1963     7   India  Asia    48421923458     0.034050\n",
              "422   1964     7   India  Asia    56480289940     0.036255\n",
              "...    ...   ...     ...   ...            ...          ...\n",
              "9153  2016     7   India  Asia  2294797980509     0.030479\n",
              "9357  2017     6   India  Asia  2651472946375     0.033085\n",
              "9562  2018     7   India  Asia  2701111782774     0.031710\n",
              "9764  2019     5   India  Asia  2870504096717     0.033278\n",
              "9963  2020     5   India  Asia  2622983732006     0.033827\n",
              "\n",
              "[61 rows x 6 columns]"
            ],
            "text/html": [
              "\n",
              "  <div id=\"df-000f4d42-8bda-49da-a066-4642fbd04a03\">\n",
              "    <div class=\"colab-df-container\">\n",
              "      <div>\n",
              "<style scoped>\n",
              "    .dataframe tbody tr th:only-of-type {\n",
              "        vertical-align: middle;\n",
              "    }\n",
              "\n",
              "    .dataframe tbody tr th {\n",
              "        vertical-align: top;\n",
              "    }\n",
              "\n",
              "    .dataframe thead th {\n",
              "        text-align: right;\n",
              "    }\n",
              "</style>\n",
              "<table border=\"1\" class=\"dataframe\">\n",
              "  <thead>\n",
              "    <tr style=\"text-align: right;\">\n",
              "      <th></th>\n",
              "      <th>year</th>\n",
              "      <th>rank</th>\n",
              "      <th>country</th>\n",
              "      <th>state</th>\n",
              "      <th>gdp</th>\n",
              "      <th>gdp_percent</th>\n",
              "    </tr>\n",
              "  </thead>\n",
              "  <tbody>\n",
              "    <tr>\n",
              "      <th>7</th>\n",
              "      <td>1960</td>\n",
              "      <td>8</td>\n",
              "      <td>India</td>\n",
              "      <td>Asia</td>\n",
              "      <td>37029883875</td>\n",
              "      <td>0.031931</td>\n",
              "    </tr>\n",
              "    <tr>\n",
              "      <th>110</th>\n",
              "      <td>1961</td>\n",
              "      <td>8</td>\n",
              "      <td>India</td>\n",
              "      <td>Asia</td>\n",
              "      <td>39232435784</td>\n",
              "      <td>0.032502</td>\n",
              "    </tr>\n",
              "    <tr>\n",
              "      <th>213</th>\n",
              "      <td>1962</td>\n",
              "      <td>8</td>\n",
              "      <td>India</td>\n",
              "      <td>Asia</td>\n",
              "      <td>42161481858</td>\n",
              "      <td>0.031930</td>\n",
              "    </tr>\n",
              "    <tr>\n",
              "      <th>317</th>\n",
              "      <td>1963</td>\n",
              "      <td>7</td>\n",
              "      <td>India</td>\n",
              "      <td>Asia</td>\n",
              "      <td>48421923458</td>\n",
              "      <td>0.034050</td>\n",
              "    </tr>\n",
              "    <tr>\n",
              "      <th>422</th>\n",
              "      <td>1964</td>\n",
              "      <td>7</td>\n",
              "      <td>India</td>\n",
              "      <td>Asia</td>\n",
              "      <td>56480289940</td>\n",
              "      <td>0.036255</td>\n",
              "    </tr>\n",
              "    <tr>\n",
              "      <th>...</th>\n",
              "      <td>...</td>\n",
              "      <td>...</td>\n",
              "      <td>...</td>\n",
              "      <td>...</td>\n",
              "      <td>...</td>\n",
              "      <td>...</td>\n",
              "    </tr>\n",
              "    <tr>\n",
              "      <th>9153</th>\n",
              "      <td>2016</td>\n",
              "      <td>7</td>\n",
              "      <td>India</td>\n",
              "      <td>Asia</td>\n",
              "      <td>2294797980509</td>\n",
              "      <td>0.030479</td>\n",
              "    </tr>\n",
              "    <tr>\n",
              "      <th>9357</th>\n",
              "      <td>2017</td>\n",
              "      <td>6</td>\n",
              "      <td>India</td>\n",
              "      <td>Asia</td>\n",
              "      <td>2651472946375</td>\n",
              "      <td>0.033085</td>\n",
              "    </tr>\n",
              "    <tr>\n",
              "      <th>9562</th>\n",
              "      <td>2018</td>\n",
              "      <td>7</td>\n",
              "      <td>India</td>\n",
              "      <td>Asia</td>\n",
              "      <td>2701111782774</td>\n",
              "      <td>0.031710</td>\n",
              "    </tr>\n",
              "    <tr>\n",
              "      <th>9764</th>\n",
              "      <td>2019</td>\n",
              "      <td>5</td>\n",
              "      <td>India</td>\n",
              "      <td>Asia</td>\n",
              "      <td>2870504096717</td>\n",
              "      <td>0.033278</td>\n",
              "    </tr>\n",
              "    <tr>\n",
              "      <th>9963</th>\n",
              "      <td>2020</td>\n",
              "      <td>5</td>\n",
              "      <td>India</td>\n",
              "      <td>Asia</td>\n",
              "      <td>2622983732006</td>\n",
              "      <td>0.033827</td>\n",
              "    </tr>\n",
              "  </tbody>\n",
              "</table>\n",
              "<p>61 rows × 6 columns</p>\n",
              "</div>\n",
              "      <button class=\"colab-df-convert\" onclick=\"convertToInteractive('df-000f4d42-8bda-49da-a066-4642fbd04a03')\"\n",
              "              title=\"Convert this dataframe to an interactive table.\"\n",
              "              style=\"display:none;\">\n",
              "        \n",
              "  <svg xmlns=\"http://www.w3.org/2000/svg\" height=\"24px\"viewBox=\"0 0 24 24\"\n",
              "       width=\"24px\">\n",
              "    <path d=\"M0 0h24v24H0V0z\" fill=\"none\"/>\n",
              "    <path d=\"M18.56 5.44l.94 2.06.94-2.06 2.06-.94-2.06-.94-.94-2.06-.94 2.06-2.06.94zm-11 1L8.5 8.5l.94-2.06 2.06-.94-2.06-.94L8.5 2.5l-.94 2.06-2.06.94zm10 10l.94 2.06.94-2.06 2.06-.94-2.06-.94-.94-2.06-.94 2.06-2.06.94z\"/><path d=\"M17.41 7.96l-1.37-1.37c-.4-.4-.92-.59-1.43-.59-.52 0-1.04.2-1.43.59L10.3 9.45l-7.72 7.72c-.78.78-.78 2.05 0 2.83L4 21.41c.39.39.9.59 1.41.59.51 0 1.02-.2 1.41-.59l7.78-7.78 2.81-2.81c.8-.78.8-2.07 0-2.86zM5.41 20L4 18.59l7.72-7.72 1.47 1.35L5.41 20z\"/>\n",
              "  </svg>\n",
              "      </button>\n",
              "      \n",
              "  <style>\n",
              "    .colab-df-container {\n",
              "      display:flex;\n",
              "      flex-wrap:wrap;\n",
              "      gap: 12px;\n",
              "    }\n",
              "\n",
              "    .colab-df-convert {\n",
              "      background-color: #E8F0FE;\n",
              "      border: none;\n",
              "      border-radius: 50%;\n",
              "      cursor: pointer;\n",
              "      display: none;\n",
              "      fill: #1967D2;\n",
              "      height: 32px;\n",
              "      padding: 0 0 0 0;\n",
              "      width: 32px;\n",
              "    }\n",
              "\n",
              "    .colab-df-convert:hover {\n",
              "      background-color: #E2EBFA;\n",
              "      box-shadow: 0px 1px 2px rgba(60, 64, 67, 0.3), 0px 1px 3px 1px rgba(60, 64, 67, 0.15);\n",
              "      fill: #174EA6;\n",
              "    }\n",
              "\n",
              "    [theme=dark] .colab-df-convert {\n",
              "      background-color: #3B4455;\n",
              "      fill: #D2E3FC;\n",
              "    }\n",
              "\n",
              "    [theme=dark] .colab-df-convert:hover {\n",
              "      background-color: #434B5C;\n",
              "      box-shadow: 0px 1px 3px 1px rgba(0, 0, 0, 0.15);\n",
              "      filter: drop-shadow(0px 1px 2px rgba(0, 0, 0, 0.3));\n",
              "      fill: #FFFFFF;\n",
              "    }\n",
              "  </style>\n",
              "\n",
              "      <script>\n",
              "        const buttonEl =\n",
              "          document.querySelector('#df-000f4d42-8bda-49da-a066-4642fbd04a03 button.colab-df-convert');\n",
              "        buttonEl.style.display =\n",
              "          google.colab.kernel.accessAllowed ? 'block' : 'none';\n",
              "\n",
              "        async function convertToInteractive(key) {\n",
              "          const element = document.querySelector('#df-000f4d42-8bda-49da-a066-4642fbd04a03');\n",
              "          const dataTable =\n",
              "            await google.colab.kernel.invokeFunction('convertToInteractive',\n",
              "                                                     [key], {});\n",
              "          if (!dataTable) return;\n",
              "\n",
              "          const docLinkHtml = 'Like what you see? Visit the ' +\n",
              "            '<a target=\"_blank\" href=https://colab.research.google.com/notebooks/data_table.ipynb>data table notebook</a>'\n",
              "            + ' to learn more about interactive tables.';\n",
              "          element.innerHTML = '';\n",
              "          dataTable['output_type'] = 'display_data';\n",
              "          await google.colab.output.renderOutput(dataTable, element);\n",
              "          const docLink = document.createElement('div');\n",
              "          docLink.innerHTML = docLinkHtml;\n",
              "          element.appendChild(docLink);\n",
              "        }\n",
              "      </script>\n",
              "    </div>\n",
              "  </div>\n",
              "  "
            ]
          },
          "metadata": {},
          "execution_count": 7
        }
      ],
      "source": [
        "india_gdp=gdp[gdp['country']=='India']\n",
        "india_gdp"
      ]
    },
    {
      "cell_type": "code",
      "execution_count": 8,
      "id": "4475c440",
      "metadata": {
        "colab": {
          "base_uri": "https://localhost:8080/"
        },
        "id": "4475c440",
        "outputId": "bdfebd48-fb16-4847-ca27-a9a9dc4542b6"
      },
      "outputs": [
        {
          "output_type": "stream",
          "name": "stderr",
          "text": [
            "/usr/local/lib/python3.7/dist-packages/pandas/core/frame.py:4913: SettingWithCopyWarning: \n",
            "A value is trying to be set on a copy of a slice from a DataFrame\n",
            "\n",
            "See the caveats in the documentation: https://pandas.pydata.org/pandas-docs/stable/user_guide/indexing.html#returning-a-view-versus-a-copy\n",
            "  errors=errors,\n"
          ]
        }
      ],
      "source": [
        "india_gdp.drop(['rank','state','gdp_percent'], axis = 1, inplace = True)"
      ]
    },
    {
      "cell_type": "code",
      "execution_count": 9,
      "id": "e9bf24fc",
      "metadata": {
        "colab": {
          "base_uri": "https://localhost:8080/",
          "height": 424
        },
        "id": "e9bf24fc",
        "outputId": "7765f396-1f65-4167-bb5d-1d57d87ea802"
      },
      "outputs": [
        {
          "output_type": "execute_result",
          "data": {
            "text/plain": [
              "      year country            gdp\n",
              "7     1960   India    37029883875\n",
              "110   1961   India    39232435784\n",
              "213   1962   India    42161481858\n",
              "317   1963   India    48421923458\n",
              "422   1964   India    56480289940\n",
              "...    ...     ...            ...\n",
              "9153  2016   India  2294797980509\n",
              "9357  2017   India  2651472946375\n",
              "9562  2018   India  2701111782774\n",
              "9764  2019   India  2870504096717\n",
              "9963  2020   India  2622983732006\n",
              "\n",
              "[61 rows x 3 columns]"
            ],
            "text/html": [
              "\n",
              "  <div id=\"df-acb28686-3710-4cfa-a585-f4c796407aeb\">\n",
              "    <div class=\"colab-df-container\">\n",
              "      <div>\n",
              "<style scoped>\n",
              "    .dataframe tbody tr th:only-of-type {\n",
              "        vertical-align: middle;\n",
              "    }\n",
              "\n",
              "    .dataframe tbody tr th {\n",
              "        vertical-align: top;\n",
              "    }\n",
              "\n",
              "    .dataframe thead th {\n",
              "        text-align: right;\n",
              "    }\n",
              "</style>\n",
              "<table border=\"1\" class=\"dataframe\">\n",
              "  <thead>\n",
              "    <tr style=\"text-align: right;\">\n",
              "      <th></th>\n",
              "      <th>year</th>\n",
              "      <th>country</th>\n",
              "      <th>gdp</th>\n",
              "    </tr>\n",
              "  </thead>\n",
              "  <tbody>\n",
              "    <tr>\n",
              "      <th>7</th>\n",
              "      <td>1960</td>\n",
              "      <td>India</td>\n",
              "      <td>37029883875</td>\n",
              "    </tr>\n",
              "    <tr>\n",
              "      <th>110</th>\n",
              "      <td>1961</td>\n",
              "      <td>India</td>\n",
              "      <td>39232435784</td>\n",
              "    </tr>\n",
              "    <tr>\n",
              "      <th>213</th>\n",
              "      <td>1962</td>\n",
              "      <td>India</td>\n",
              "      <td>42161481858</td>\n",
              "    </tr>\n",
              "    <tr>\n",
              "      <th>317</th>\n",
              "      <td>1963</td>\n",
              "      <td>India</td>\n",
              "      <td>48421923458</td>\n",
              "    </tr>\n",
              "    <tr>\n",
              "      <th>422</th>\n",
              "      <td>1964</td>\n",
              "      <td>India</td>\n",
              "      <td>56480289940</td>\n",
              "    </tr>\n",
              "    <tr>\n",
              "      <th>...</th>\n",
              "      <td>...</td>\n",
              "      <td>...</td>\n",
              "      <td>...</td>\n",
              "    </tr>\n",
              "    <tr>\n",
              "      <th>9153</th>\n",
              "      <td>2016</td>\n",
              "      <td>India</td>\n",
              "      <td>2294797980509</td>\n",
              "    </tr>\n",
              "    <tr>\n",
              "      <th>9357</th>\n",
              "      <td>2017</td>\n",
              "      <td>India</td>\n",
              "      <td>2651472946375</td>\n",
              "    </tr>\n",
              "    <tr>\n",
              "      <th>9562</th>\n",
              "      <td>2018</td>\n",
              "      <td>India</td>\n",
              "      <td>2701111782774</td>\n",
              "    </tr>\n",
              "    <tr>\n",
              "      <th>9764</th>\n",
              "      <td>2019</td>\n",
              "      <td>India</td>\n",
              "      <td>2870504096717</td>\n",
              "    </tr>\n",
              "    <tr>\n",
              "      <th>9963</th>\n",
              "      <td>2020</td>\n",
              "      <td>India</td>\n",
              "      <td>2622983732006</td>\n",
              "    </tr>\n",
              "  </tbody>\n",
              "</table>\n",
              "<p>61 rows × 3 columns</p>\n",
              "</div>\n",
              "      <button class=\"colab-df-convert\" onclick=\"convertToInteractive('df-acb28686-3710-4cfa-a585-f4c796407aeb')\"\n",
              "              title=\"Convert this dataframe to an interactive table.\"\n",
              "              style=\"display:none;\">\n",
              "        \n",
              "  <svg xmlns=\"http://www.w3.org/2000/svg\" height=\"24px\"viewBox=\"0 0 24 24\"\n",
              "       width=\"24px\">\n",
              "    <path d=\"M0 0h24v24H0V0z\" fill=\"none\"/>\n",
              "    <path d=\"M18.56 5.44l.94 2.06.94-2.06 2.06-.94-2.06-.94-.94-2.06-.94 2.06-2.06.94zm-11 1L8.5 8.5l.94-2.06 2.06-.94-2.06-.94L8.5 2.5l-.94 2.06-2.06.94zm10 10l.94 2.06.94-2.06 2.06-.94-2.06-.94-.94-2.06-.94 2.06-2.06.94z\"/><path d=\"M17.41 7.96l-1.37-1.37c-.4-.4-.92-.59-1.43-.59-.52 0-1.04.2-1.43.59L10.3 9.45l-7.72 7.72c-.78.78-.78 2.05 0 2.83L4 21.41c.39.39.9.59 1.41.59.51 0 1.02-.2 1.41-.59l7.78-7.78 2.81-2.81c.8-.78.8-2.07 0-2.86zM5.41 20L4 18.59l7.72-7.72 1.47 1.35L5.41 20z\"/>\n",
              "  </svg>\n",
              "      </button>\n",
              "      \n",
              "  <style>\n",
              "    .colab-df-container {\n",
              "      display:flex;\n",
              "      flex-wrap:wrap;\n",
              "      gap: 12px;\n",
              "    }\n",
              "\n",
              "    .colab-df-convert {\n",
              "      background-color: #E8F0FE;\n",
              "      border: none;\n",
              "      border-radius: 50%;\n",
              "      cursor: pointer;\n",
              "      display: none;\n",
              "      fill: #1967D2;\n",
              "      height: 32px;\n",
              "      padding: 0 0 0 0;\n",
              "      width: 32px;\n",
              "    }\n",
              "\n",
              "    .colab-df-convert:hover {\n",
              "      background-color: #E2EBFA;\n",
              "      box-shadow: 0px 1px 2px rgba(60, 64, 67, 0.3), 0px 1px 3px 1px rgba(60, 64, 67, 0.15);\n",
              "      fill: #174EA6;\n",
              "    }\n",
              "\n",
              "    [theme=dark] .colab-df-convert {\n",
              "      background-color: #3B4455;\n",
              "      fill: #D2E3FC;\n",
              "    }\n",
              "\n",
              "    [theme=dark] .colab-df-convert:hover {\n",
              "      background-color: #434B5C;\n",
              "      box-shadow: 0px 1px 3px 1px rgba(0, 0, 0, 0.15);\n",
              "      filter: drop-shadow(0px 1px 2px rgba(0, 0, 0, 0.3));\n",
              "      fill: #FFFFFF;\n",
              "    }\n",
              "  </style>\n",
              "\n",
              "      <script>\n",
              "        const buttonEl =\n",
              "          document.querySelector('#df-acb28686-3710-4cfa-a585-f4c796407aeb button.colab-df-convert');\n",
              "        buttonEl.style.display =\n",
              "          google.colab.kernel.accessAllowed ? 'block' : 'none';\n",
              "\n",
              "        async function convertToInteractive(key) {\n",
              "          const element = document.querySelector('#df-acb28686-3710-4cfa-a585-f4c796407aeb');\n",
              "          const dataTable =\n",
              "            await google.colab.kernel.invokeFunction('convertToInteractive',\n",
              "                                                     [key], {});\n",
              "          if (!dataTable) return;\n",
              "\n",
              "          const docLinkHtml = 'Like what you see? Visit the ' +\n",
              "            '<a target=\"_blank\" href=https://colab.research.google.com/notebooks/data_table.ipynb>data table notebook</a>'\n",
              "            + ' to learn more about interactive tables.';\n",
              "          element.innerHTML = '';\n",
              "          dataTable['output_type'] = 'display_data';\n",
              "          await google.colab.output.renderOutput(dataTable, element);\n",
              "          const docLink = document.createElement('div');\n",
              "          docLink.innerHTML = docLinkHtml;\n",
              "          element.appendChild(docLink);\n",
              "        }\n",
              "      </script>\n",
              "    </div>\n",
              "  </div>\n",
              "  "
            ]
          },
          "metadata": {},
          "execution_count": 9
        }
      ],
      "source": [
        "india_gdp"
      ]
    },
    {
      "cell_type": "code",
      "execution_count": 10,
      "id": "5d7862b6",
      "metadata": {
        "colab": {
          "base_uri": "https://localhost:8080/",
          "height": 474
        },
        "id": "5d7862b6",
        "outputId": "50da8f71-25b0-40ae-88d1-330ff6e87a61"
      },
      "outputs": [
        {
          "output_type": "display_data",
          "data": {
            "text/plain": [
              "<Figure size 720x504 with 1 Axes>"
            ],
            "image/png": "[encoded data removed]"
          },
          "metadata": {
            "needs_background": "light"
          }
        }
      ],
      "source": [
        "plt.figure(figsize = (10,7))\n",
        "sns.barplot(x = 'year',\n",
        "y = 'gdp',\n",
        "hue = 'country',\n",
        "data = india_gdp)\n",
        "plt.xticks(rotation = 90)\n",
        "plt.title(\"India's GDP\")\n",
        "plt.show()"
      ]
    },
    {
      "cell_type": "code",
      "execution_count": 11,
      "id": "5c6fadf9",
      "metadata": {
        "id": "5c6fadf9"
      },
      "outputs": [],
      "source": [
        "x1 = india_gdp.drop(['gdp', 'country'], axis=1)\n",
        "y1 = india_gdp['gdp']"
      ]
    },
    {
      "cell_type": "code",
      "execution_count": 12,
      "id": "9ddfe74b",
      "metadata": {
        "colab": {
          "base_uri": "https://localhost:8080/"
        },
        "id": "9ddfe74b",
        "outputId": "75df9ab9-100d-4d90-cde2-17ee5030ccec"
      },
      "outputs": [
        {
          "output_type": "stream",
          "name": "stdout",
          "text": [
            "(61, 1)\n",
            "(61,)\n"
          ]
        }
      ],
      "source": [
        "print(x1.shape)\n",
        "print(y1.shape)"
      ]
    },
    {
      "cell_type": "code",
      "execution_count": 13,
      "id": "b7d621d2",
      "metadata": {
        "id": "b7d621d2"
      },
      "outputs": [],
      "source": [
        "from sklearn.linear_model import LinearRegression\n",
        "from sklearn.model_selection import train_test_split\n",
        "X_train, X_test, y_train, y_test = train_test_split(x1, y1, test_size = 0.2)"
      ]
    },
    {
      "cell_type": "code",
      "execution_count": 14,
      "id": "647178d7",
      "metadata": {
        "colab": {
          "base_uri": "https://localhost:8080/"
        },
        "id": "647178d7",
        "outputId": "708fd1b4-b871-4c76-884b-a9e946a5e86f"
      },
      "outputs": [
        {
          "output_type": "execute_result",
          "data": {
            "text/plain": [
              "LinearRegression()"
            ]
          },
          "metadata": {},
          "execution_count": 14
        }
      ],
      "source": [
        "model_india=LinearRegression()\n",
        "model_india.fit(x1,y1)"
      ]
    },
    {
      "cell_type": "code",
      "execution_count": 15,
      "id": "15ae26b2",
      "metadata": {
        "colab": {
          "base_uri": "https://localhost:8080/"
        },
        "id": "15ae26b2",
        "outputId": "17afed1c-01c2-4c88-d67c-9ec818e785b1"
      },
      "outputs": [
        {
          "output_type": "stream",
          "name": "stdout",
          "text": [
            "Coefficient:  [3.87539925e+10]\n",
            "intercept:  -76462096733309.64\n"
          ]
        }
      ],
      "source": [
        "print(\"Coefficient: \",model_india.coef_)\n",
        "print(\"intercept: \",model_india.intercept_)\n",
        "pred = model_india.predict(x1)"
      ]
    },
    {
      "cell_type": "code",
      "execution_count": 16,
      "id": "e869805b",
      "metadata": {
        "colab": {
          "base_uri": "https://localhost:8080/",
          "height": 441
        },
        "id": "e869805b",
        "outputId": "3d080f82-5b19-4c14-b1ca-12a146f58833"
      },
      "outputs": [
        {
          "output_type": "display_data",
          "data": {
            "text/plain": [
              "<Figure size 576x432 with 1 Axes>"
            ],
            "image/png": "[encoded data removed]"
          },
          "metadata": {
            "needs_background": "light"
          }
        }
      ],
      "source": [
        "plt.figure(figsize=(8,6))\n",
        "plt.scatter(x1,y1,label='Acutal value')\n",
        "plt.plot(x1,pred,color='tab:orange',label='Predicted value')\n",
        "plt.legend()\n",
        "plt.title(\"India\",color='m')\n",
        "plt.xlabel(\"Years\",color='r')\n",
        "plt.ylabel(\"per year INDIAN gdp\",color='c')\n",
        "plt.tight_layout()\n",
        "plt.show()"
      ]
    },
    {
      "cell_type": "code",
      "execution_count": 17,
      "id": "f24683d6",
      "metadata": {
        "colab": {
          "base_uri": "https://localhost:8080/"
        },
        "id": "f24683d6",
        "outputId": "bb4a2db7-dbbc-4d15-9b54-7d874ce9331c"
      },
      "outputs": [
        {
          "output_type": "stream",
          "name": "stdout",
          "text": [
            "[1.85972215e+12]\n",
            "[1.89847614e+12]\n",
            "[1.93723013e+12]\n",
            "[1.97598412e+12]\n",
            "[2.01473812e+12]\n"
          ]
        },
        {
          "output_type": "stream",
          "name": "stderr",
          "text": [
            "/usr/local/lib/python3.7/dist-packages/sklearn/base.py:451: UserWarning: X does not have valid feature names, but LinearRegression was fitted with feature names\n",
            "  \"X does not have valid feature names, but\"\n",
            "/usr/local/lib/python3.7/dist-packages/sklearn/base.py:451: UserWarning: X does not have valid feature names, but LinearRegression was fitted with feature names\n",
            "  \"X does not have valid feature names, but\"\n",
            "/usr/local/lib/python3.7/dist-packages/sklearn/base.py:451: UserWarning: X does not have valid feature names, but LinearRegression was fitted with feature names\n",
            "  \"X does not have valid feature names, but\"\n",
            "/usr/local/lib/python3.7/dist-packages/sklearn/base.py:451: UserWarning: X does not have valid feature names, but LinearRegression was fitted with feature names\n",
            "  \"X does not have valid feature names, but\"\n",
            "/usr/local/lib/python3.7/dist-packages/sklearn/base.py:451: UserWarning: X does not have valid feature names, but LinearRegression was fitted with feature names\n",
            "  \"X does not have valid feature names, but\"\n"
          ]
        }
      ],
      "source": [
        "years=[2021,2022,2023,2024,2025]\n",
        "for i in years:\n",
        "    print(model_india.predict([[i]]))"
      ]
    },
    {
      "cell_type": "code",
      "execution_count": 18,
      "id": "f8ec2a03",
      "metadata": {
        "colab": {
          "base_uri": "https://localhost:8080/"
        },
        "id": "f8ec2a03",
        "outputId": "47aecfe8-0649-4aec-f672-75860ab008ef"
      },
      "outputs": [
        {
          "output_type": "execute_result",
          "data": {
            "text/plain": [
              "LogisticRegression()"
            ]
          },
          "metadata": {},
          "execution_count": 18
        }
      ],
      "source": [
        "from sklearn.linear_model import LogisticRegression\n",
        "logimodel_india=LogisticRegression()\n",
        "logimodel_india.fit(x1,y1)"
      ]
    },
    {
      "cell_type": "code",
      "execution_count": 19,
      "id": "d71af2b3",
      "metadata": {
        "id": "d71af2b3"
      },
      "outputs": [],
      "source": [
        "pred_logi = logimodel_india.predict(x1)"
      ]
    },
    {
      "cell_type": "code",
      "execution_count": 20,
      "id": "70021d80",
      "metadata": {
        "colab": {
          "base_uri": "https://localhost:8080/",
          "height": 441
        },
        "id": "70021d80",
        "outputId": "10931a54-1059-4b44-b550-b6078d26e6bb"
      },
      "outputs": [
        {
          "output_type": "display_data",
          "data": {
            "text/plain": [
              "<Figure size 576x432 with 1 Axes>"
            ],
            "image/png": "[encoded data removed]"
          },
          "metadata": {
            "needs_background": "light"
          }
        }
      ],
      "source": [
        "plt.figure(figsize=(8,6))\n",
        "plt.scatter(x1,y1,label='Acutal value')\n",
        "plt.plot(x1,pred_logi,color='tab:orange',label='Predicted value')\n",
        "plt.legend()\n",
        "plt.title(\"India\",color='m')\n",
        "plt.xlabel(\"Years\",color='r')\n",
        "plt.ylabel(\"per year INDIAN gdp\",color='c')\n",
        "plt.tight_layout()\n",
        "plt.show()"
      ]
    },
    {
      "cell_type": "code",
      "execution_count": 21,
      "id": "b1fd34d0",
      "metadata": {
        "colab": {
          "base_uri": "https://localhost:8080/"
        },
        "id": "b1fd34d0",
        "outputId": "a644af33-1375-4795-8c22-55810b1be783"
      },
      "outputs": [
        {
          "output_type": "stream",
          "name": "stdout",
          "text": [
            "[2622983732006]\n",
            "[2622983732006]\n",
            "[2622983732006]\n",
            "[2622983732006]\n",
            "[2622983732006]\n"
          ]
        },
        {
          "output_type": "stream",
          "name": "stderr",
          "text": [
            "/usr/local/lib/python3.7/dist-packages/sklearn/base.py:451: UserWarning: X does not have valid feature names, but LogisticRegression was fitted with feature names\n",
            "  \"X does not have valid feature names, but\"\n",
            "/usr/local/lib/python3.7/dist-packages/sklearn/base.py:451: UserWarning: X does not have valid feature names, but LogisticRegression was fitted with feature names\n",
            "  \"X does not have valid feature names, but\"\n",
            "/usr/local/lib/python3.7/dist-packages/sklearn/base.py:451: UserWarning: X does not have valid feature names, but LogisticRegression was fitted with feature names\n",
            "  \"X does not have valid feature names, but\"\n",
            "/usr/local/lib/python3.7/dist-packages/sklearn/base.py:451: UserWarning: X does not have valid feature names, but LogisticRegression was fitted with feature names\n",
            "  \"X does not have valid feature names, but\"\n",
            "/usr/local/lib/python3.7/dist-packages/sklearn/base.py:451: UserWarning: X does not have valid feature names, but LogisticRegression was fitted with feature names\n",
            "  \"X does not have valid feature names, but\"\n"
          ]
        }
      ],
      "source": [
        "years=[2021,2022,2023,2024,2025]\n",
        "for i in years:\n",
        "    print(logimodel_india.predict([[i]]))"
      ]
    },
    {
      "cell_type": "code",
      "execution_count": 21,
      "id": "4aebece4",
      "metadata": {
        "id": "4aebece4"
      },
      "outputs": [],
      "source": [
        ""
      ]
    }
  ],
  "metadata": {
    "kernelspec": {
      "display_name": "Python 3 (ipykernel)",
      "language": "python",
      "name": "python3"
    },
    "language_info": {
      "codemirror_mode": {
        "name": "ipython",
        "version": 3
      },
      "file_extension": ".py",
      "mimetype": "text/x-python",
      "name": "python",
      "nbconvert_exporter": "python",
      "pygments_lexer": "ipython3",
      "version": "3.8.8"
    },
    "colab": {
      "name": "Question1.ipynb",
      "provenance": []
    }
  },
  "nbformat": 4,
  "nbformat_minor": 5
}